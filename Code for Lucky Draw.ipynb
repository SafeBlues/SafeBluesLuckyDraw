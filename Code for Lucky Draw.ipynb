{
 "cells": [
  {
   "cell_type": "code",
   "execution_count": 1,
   "metadata": {},
   "outputs": [],
   "source": [
    "using CSV\n",
    "using DataFrames\n",
    "using Random\n",
    "using StatsBase"
   ]
  },
  {
   "cell_type": "code",
   "execution_count": 2,
   "metadata": {},
   "outputs": [],
   "source": [
    "df = CSV.File(\"data/luck_draw.csv\", normalizenames=true) |> DataFrame\n",
    "df=dropmissing(df);"
   ]
  },
  {
   "cell_type": "code",
   "execution_count": 3,
   "metadata": {},
   "outputs": [],
   "source": [
    "\"\"\"\n",
    "Returns the list of winners\n",
    "\"\"\"\n",
    "\n",
    "function all_winners(df)\n",
    "    \n",
    "    weights=df.hours./sum(df.hours)\n",
    "    winners=sample(df.participant_id, Weights(weights),9,replace=false)\n",
    "    return winners\n",
    "end;"
   ]
  },
  {
   "cell_type": "code",
   "execution_count": 4,
   "metadata": {},
   "outputs": [],
   "source": [
    "\"\"\"\n",
    "Converts the list of winners of a gift into a string\n",
    "\"\"\"\n",
    "\n",
    "function convert(split)\n",
    "    split=string.(split)\n",
    "    splitstr=split[1]\n",
    "    for i in split[2:end]\n",
    "        splitstr=splitstr*\", \"*i\n",
    "    end\n",
    "    return splitstr\n",
    "end;"
   ]
  },
  {
   "cell_type": "code",
   "execution_count": 5,
   "metadata": {},
   "outputs": [],
   "source": [
    "Random.seed!(Int(round(sum(df.hours)*size(df)[1])))\n",
    "winners=all_winners(df)\n",
    "winner_ipad=winners[1]\n",
    "winner_android=string.(winners[2:4])\n",
    "winner_fitbit=string.(winners[5:9]);\n"
   ]
  },
  {
   "cell_type": "code",
   "execution_count": 6,
   "metadata": {},
   "outputs": [
    {
     "name": "stdout",
     "output_type": "stream",
     "text": [
      "Congratulations to the winner of iPad Pro: E1990743A6063E89E0140A88913DA2ED\n"
     ]
    }
   ],
   "source": [
    "println(\"Congratulations to the winner of iPad Pro: $winner_ipad\")"
   ]
  },
  {
   "cell_type": "code",
   "execution_count": 7,
   "metadata": {},
   "outputs": [
    {
     "name": "stdout",
     "output_type": "stream",
     "text": [
      "Congratulations to the winner of Android Mobile Phone: B1D92EFC37E83A45F48985B622A8B1EE, 90E43D1256B6C2568D96592BF8F8C2E3, E02EB409E311CD767440ACA3CD1E8835\n"
     ]
    }
   ],
   "source": [
    "println(\"Congratulations to the winner of Android Mobile Phone: \"*convert(winner_android))"
   ]
  },
  {
   "cell_type": "code",
   "execution_count": 8,
   "metadata": {},
   "outputs": [
    {
     "name": "stdout",
     "output_type": "stream",
     "text": [
      "Congratulations to the winner of FitBat Tracker: 7AA4F54BC45E4BDE9D37B5613E02CD0C, 27D872A19B9AD9A0CCC3044A6F481E64, 89AF77D97AB1DC875A298809A0BB86C0, 0273448CC79DADBE5DC43FBA9DD9BAEA, 97DBAD626C9BE507A220B90EC1EE1047\n"
     ]
    }
   ],
   "source": [
    "println(\"Congratulations to the winner of FitBat Tracker: \"*convert(winner_fitbit))"
   ]
  },
  {
   "cell_type": "code",
   "execution_count": null,
   "metadata": {},
   "outputs": [],
   "source": []
  }
 ],
 "metadata": {
  "kernelspec": {
   "display_name": "Julia 1.5.3",
   "language": "julia",
   "name": "julia-1.5"
  },
  "language_info": {
   "file_extension": ".jl",
   "mimetype": "application/julia",
   "name": "julia",
   "version": "1.5.3"
  }
 },
 "nbformat": 4,
 "nbformat_minor": 4
}
