{
 "cells": [
  {
   "cell_type": "code",
   "execution_count": 1,
   "metadata": {},
   "outputs": [],
   "source": [
    "using CSV\n",
    "using DataFrames\n",
    "using Random\n",
    "using StatsBase"
   ]
  },
  {
   "cell_type": "code",
   "execution_count": 2,
   "metadata": {},
   "outputs": [
    {
     "data": {
      "text/html": [
       "<table class=\"data-frame\"><thead><tr><th></th><th>participant_id</th><th>hours</th></tr><tr><th></th><th>Int64</th><th>Int64</th></tr></thead><tbody><p>23 rows × 2 columns</p><tr><th>1</th><td>1</td><td>98</td></tr><tr><th>2</th><td>2</td><td>59</td></tr><tr><th>3</th><td>3</td><td>51</td></tr><tr><th>4</th><td>4</td><td>195</td></tr><tr><th>5</th><td>5</td><td>39</td></tr><tr><th>6</th><td>6</td><td>24</td></tr><tr><th>7</th><td>7</td><td>164</td></tr><tr><th>8</th><td>8</td><td>188</td></tr><tr><th>9</th><td>9</td><td>29</td></tr><tr><th>10</th><td>10</td><td>146</td></tr><tr><th>11</th><td>11</td><td>101</td></tr><tr><th>12</th><td>12</td><td>106</td></tr><tr><th>13</th><td>13</td><td>31</td></tr><tr><th>14</th><td>14</td><td>195</td></tr><tr><th>15</th><td>15</td><td>130</td></tr><tr><th>16</th><td>16</td><td>155</td></tr><tr><th>17</th><td>17</td><td>2</td></tr><tr><th>18</th><td>18</td><td>119</td></tr><tr><th>19</th><td>19</td><td>90</td></tr><tr><th>20</th><td>20</td><td>66</td></tr><tr><th>21</th><td>21</td><td>132</td></tr><tr><th>22</th><td>22</td><td>26</td></tr><tr><th>23</th><td>23</td><td>26</td></tr></tbody></table>"
      ],
      "text/latex": [
       "\\begin{tabular}{r|cc}\n",
       "\t& participant\\_id & hours\\\\\n",
       "\t\\hline\n",
       "\t& Int64 & Int64\\\\\n",
       "\t\\hline\n",
       "\t1 & 1 & 98 \\\\\n",
       "\t2 & 2 & 59 \\\\\n",
       "\t3 & 3 & 51 \\\\\n",
       "\t4 & 4 & 195 \\\\\n",
       "\t5 & 5 & 39 \\\\\n",
       "\t6 & 6 & 24 \\\\\n",
       "\t7 & 7 & 164 \\\\\n",
       "\t8 & 8 & 188 \\\\\n",
       "\t9 & 9 & 29 \\\\\n",
       "\t10 & 10 & 146 \\\\\n",
       "\t11 & 11 & 101 \\\\\n",
       "\t12 & 12 & 106 \\\\\n",
       "\t13 & 13 & 31 \\\\\n",
       "\t14 & 14 & 195 \\\\\n",
       "\t15 & 15 & 130 \\\\\n",
       "\t16 & 16 & 155 \\\\\n",
       "\t17 & 17 & 2 \\\\\n",
       "\t18 & 18 & 119 \\\\\n",
       "\t19 & 19 & 90 \\\\\n",
       "\t20 & 20 & 66 \\\\\n",
       "\t21 & 21 & 132 \\\\\n",
       "\t22 & 22 & 26 \\\\\n",
       "\t23 & 23 & 26 \\\\\n",
       "\\end{tabular}\n"
      ],
      "text/plain": [
       "\u001b[1m23×2 DataFrame\u001b[0m\n",
       "\u001b[1m Row \u001b[0m│\u001b[1m participant_id \u001b[0m\u001b[1m hours \u001b[0m\n",
       "\u001b[1m     \u001b[0m│\u001b[90m Int64          \u001b[0m\u001b[90m Int64 \u001b[0m\n",
       "─────┼───────────────────────\n",
       "   1 │              1     98\n",
       "   2 │              2     59\n",
       "   3 │              3     51\n",
       "   4 │              4    195\n",
       "   5 │              5     39\n",
       "   6 │              6     24\n",
       "   7 │              7    164\n",
       "   8 │              8    188\n",
       "   9 │              9     29\n",
       "  10 │             10    146\n",
       "  11 │             11    101\n",
       "  12 │             12    106\n",
       "  13 │             13     31\n",
       "  14 │             14    195\n",
       "  15 │             15    130\n",
       "  16 │             16    155\n",
       "  17 │             17      2\n",
       "  18 │             18    119\n",
       "  19 │             19     90\n",
       "  20 │             20     66\n",
       "  21 │             21    132\n",
       "  22 │             22     26\n",
       "  23 │             23     26"
      ]
     },
     "execution_count": 2,
     "metadata": {},
     "output_type": "execute_result"
    }
   ],
   "source": [
    "df = CSV.File(\"data/luck_draw.csv\", normalizenames=true) |> DataFrame\n",
    "df=dropmissing(df)"
   ]
  },
  {
   "cell_type": "code",
   "execution_count": 3,
   "metadata": {},
   "outputs": [
    {
     "data": {
      "text/plain": [
       "all_winners (generic function with 1 method)"
      ]
     },
     "execution_count": 3,
     "metadata": {},
     "output_type": "execute_result"
    }
   ],
   "source": [
    "\"\"\"\n",
    "Returns the list of winners\n",
    "\"\"\"\n",
    "\n",
    "function all_winners(df)\n",
    "    \n",
    "    weights=df.hours./sum(df.hours)\n",
    "    winners=sample(df.participant_id, Weights(weights),9,replace=false)\n",
    "    return winners\n",
    "end"
   ]
  },
  {
   "cell_type": "code",
   "execution_count": 4,
   "metadata": {},
   "outputs": [
    {
     "data": {
      "text/plain": [
       "convert (generic function with 1 method)"
      ]
     },
     "execution_count": 4,
     "metadata": {},
     "output_type": "execute_result"
    }
   ],
   "source": [
    "\"\"\"\n",
    "Converts the list of winners of a gift into a string\n",
    "\"\"\"\n",
    "\n",
    "function convert(split)\n",
    "    split=string.(split)\n",
    "    splitstr=split[1]\n",
    "    for i in split[2:end]\n",
    "        splitstr=splitstr*\", \"*i\n",
    "    end\n",
    "    return splitstr\n",
    "end"
   ]
  },
  {
   "cell_type": "code",
   "execution_count": 5,
   "metadata": {},
   "outputs": [
    {
     "name": "stdout",
     "output_type": "stream",
     "text": [
      "Congratulations to the winner of iPad Pro: 8\n",
      "Congratulations to the winner of Android Mobile Phone: 10, 19, 1\n",
      "Congratulations to the winner of FitBat Tracker: 11, 20, 16, 6, 4\n"
     ]
    }
   ],
   "source": [
    "Random.seed!(sum(df.hours)*size(df)[1])\n",
    "winners=all_winners(df)\n",
    "winner_ipad=winners[1]\n",
    "winner_android=string.(winners[2:4])\n",
    "winner_fitbit=string.(winners[5:9])\n",
    "\n",
    "println(\"Congratulations to the winner of iPad Pro: $winner_ipad\")\n",
    "println(\"Congratulations to the winner of Android Mobile Phone: \"*convert(winner_android))\n",
    "println(\"Congratulations to the winner of FitBat Tracker: \"*convert(winner_fitbit))"
   ]
  },
  {
   "cell_type": "code",
   "execution_count": null,
   "metadata": {},
   "outputs": [],
   "source": []
  }
 ],
 "metadata": {
  "kernelspec": {
   "display_name": "Julia 1.5.3",
   "language": "julia",
   "name": "julia-1.5"
  },
  "language_info": {
   "file_extension": ".jl",
   "mimetype": "application/julia",
   "name": "julia",
   "version": "1.5.3"
  }
 },
 "nbformat": 4,
 "nbformat_minor": 4
}
