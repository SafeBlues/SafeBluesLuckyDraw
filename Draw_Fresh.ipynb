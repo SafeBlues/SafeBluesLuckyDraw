{
 "cells": [
  {
   "cell_type": "code",
   "execution_count": 1,
   "metadata": {},
   "outputs": [],
   "source": [
    "using CSV\n",
    "using DataFrames\n",
    "using Random\n",
    "using StatsBase"
   ]
  },
  {
   "cell_type": "code",
   "execution_count": 2,
   "metadata": {},
   "outputs": [
    {
     "data": {
      "text/html": [
       "<table class=\"data-frame\"><thead><tr><th></th><th>participant_id</th><th>hours</th></tr><tr><th></th><th>String</th><th>Int64</th></tr></thead><tbody><p>23 rows × 2 columns</p><tr><th>1</th><td>E02EB409E311CD767440ACA3CD1E8835</td><td>98</td></tr><tr><th>2</th><td>3C5A56458280BCBB43156ED7D0AD4336</td><td>59</td></tr><tr><th>3</th><td>27F8DE6592945697605E46FF20B03816</td><td>51</td></tr><tr><th>4</th><td>97DBAD626C9BE507A220B90EC1EE1047</td><td>195</td></tr><tr><th>5</th><td>D1FC8CE74D0748DD4F8C95ED216EE212</td><td>39</td></tr><tr><th>6</th><td>0273448CC79DADBE5DC43FBA9DD9BAEA</td><td>24</td></tr><tr><th>7</th><td>1B0365481A7030B601FF996DC0AC1DC0</td><td>164</td></tr><tr><th>8</th><td>E1990743A6063E89E0140A88913DA2ED</td><td>188</td></tr><tr><th>9</th><td>F29546C108368DEF85678A82B5644E50</td><td>29</td></tr><tr><th>10</th><td>B1D92EFC37E83A45F48985B622A8B1EE</td><td>146</td></tr><tr><th>11</th><td>7AA4F54BC45E4BDE9D37B5613E02CD0C</td><td>101</td></tr><tr><th>12</th><td>56BA78E31D7EF751B449F47C1647F24B</td><td>106</td></tr><tr><th>13</th><td>263727DE48DCC161FAC7F596F8D7E571</td><td>31</td></tr><tr><th>14</th><td>92388F1025C4AF44B841894D65B65E5C</td><td>195</td></tr><tr><th>15</th><td>F9558FF2F5B419305A6FB62ABEF75306</td><td>130</td></tr><tr><th>16</th><td>89AF77D97AB1DC875A298809A0BB86C0</td><td>155</td></tr><tr><th>17</th><td>625BAB70F529D9897E9A0742CEC90961</td><td>2</td></tr><tr><th>18</th><td>B2B6DBCA9BAA768E28E48E2F8778553E</td><td>119</td></tr><tr><th>19</th><td>90E43D1256B6C2568D96592BF8F8C2E3</td><td>90</td></tr><tr><th>20</th><td>27D872A19B9AD9A0CCC3044A6F481E64</td><td>66</td></tr><tr><th>21</th><td>7E551CBD35AA9F9C4D09967145E1348F</td><td>132</td></tr><tr><th>22</th><td>AAE87F736603DF92F7B0051E9AF735F9</td><td>26</td></tr><tr><th>23</th><td>3D7172B734538307D273FC16621921B0</td><td>26</td></tr></tbody></table>"
      ],
      "text/latex": [
       "\\begin{tabular}{r|cc}\n",
       "\t& participant\\_id & hours\\\\\n",
       "\t\\hline\n",
       "\t& String & Int64\\\\\n",
       "\t\\hline\n",
       "\t1 & E02EB409E311CD767440ACA3CD1E8835 & 98 \\\\\n",
       "\t2 & 3C5A56458280BCBB43156ED7D0AD4336 & 59 \\\\\n",
       "\t3 & 27F8DE6592945697605E46FF20B03816 & 51 \\\\\n",
       "\t4 & 97DBAD626C9BE507A220B90EC1EE1047 & 195 \\\\\n",
       "\t5 & D1FC8CE74D0748DD4F8C95ED216EE212 & 39 \\\\\n",
       "\t6 & 0273448CC79DADBE5DC43FBA9DD9BAEA & 24 \\\\\n",
       "\t7 & 1B0365481A7030B601FF996DC0AC1DC0 & 164 \\\\\n",
       "\t8 & E1990743A6063E89E0140A88913DA2ED & 188 \\\\\n",
       "\t9 & F29546C108368DEF85678A82B5644E50 & 29 \\\\\n",
       "\t10 & B1D92EFC37E83A45F48985B622A8B1EE & 146 \\\\\n",
       "\t11 & 7AA4F54BC45E4BDE9D37B5613E02CD0C & 101 \\\\\n",
       "\t12 & 56BA78E31D7EF751B449F47C1647F24B & 106 \\\\\n",
       "\t13 & 263727DE48DCC161FAC7F596F8D7E571 & 31 \\\\\n",
       "\t14 & 92388F1025C4AF44B841894D65B65E5C & 195 \\\\\n",
       "\t15 & F9558FF2F5B419305A6FB62ABEF75306 & 130 \\\\\n",
       "\t16 & 89AF77D97AB1DC875A298809A0BB86C0 & 155 \\\\\n",
       "\t17 & 625BAB70F529D9897E9A0742CEC90961 & 2 \\\\\n",
       "\t18 & B2B6DBCA9BAA768E28E48E2F8778553E & 119 \\\\\n",
       "\t19 & 90E43D1256B6C2568D96592BF8F8C2E3 & 90 \\\\\n",
       "\t20 & 27D872A19B9AD9A0CCC3044A6F481E64 & 66 \\\\\n",
       "\t21 & 7E551CBD35AA9F9C4D09967145E1348F & 132 \\\\\n",
       "\t22 & AAE87F736603DF92F7B0051E9AF735F9 & 26 \\\\\n",
       "\t23 & 3D7172B734538307D273FC16621921B0 & 26 \\\\\n",
       "\\end{tabular}\n"
      ],
      "text/plain": [
       "\u001b[1m23×2 DataFrame\u001b[0m\n",
       "\u001b[1m Row \u001b[0m│\u001b[1m participant_id                   \u001b[0m\u001b[1m hours \u001b[0m\n",
       "\u001b[1m     \u001b[0m│\u001b[90m String                           \u001b[0m\u001b[90m Int64 \u001b[0m\n",
       "─────┼─────────────────────────────────────────\n",
       "   1 │ E02EB409E311CD767440ACA3CD1E8835     98\n",
       "   2 │ 3C5A56458280BCBB43156ED7D0AD4336     59\n",
       "   3 │ 27F8DE6592945697605E46FF20B03816     51\n",
       "   4 │ 97DBAD626C9BE507A220B90EC1EE1047    195\n",
       "   5 │ D1FC8CE74D0748DD4F8C95ED216EE212     39\n",
       "   6 │ 0273448CC79DADBE5DC43FBA9DD9BAEA     24\n",
       "   7 │ 1B0365481A7030B601FF996DC0AC1DC0    164\n",
       "   8 │ E1990743A6063E89E0140A88913DA2ED    188\n",
       "   9 │ F29546C108368DEF85678A82B5644E50     29\n",
       "  10 │ B1D92EFC37E83A45F48985B622A8B1EE    146\n",
       "  11 │ 7AA4F54BC45E4BDE9D37B5613E02CD0C    101\n",
       "  12 │ 56BA78E31D7EF751B449F47C1647F24B    106\n",
       "  13 │ 263727DE48DCC161FAC7F596F8D7E571     31\n",
       "  14 │ 92388F1025C4AF44B841894D65B65E5C    195\n",
       "  15 │ F9558FF2F5B419305A6FB62ABEF75306    130\n",
       "  16 │ 89AF77D97AB1DC875A298809A0BB86C0    155\n",
       "  17 │ 625BAB70F529D9897E9A0742CEC90961      2\n",
       "  18 │ B2B6DBCA9BAA768E28E48E2F8778553E    119\n",
       "  19 │ 90E43D1256B6C2568D96592BF8F8C2E3     90\n",
       "  20 │ 27D872A19B9AD9A0CCC3044A6F481E64     66\n",
       "  21 │ 7E551CBD35AA9F9C4D09967145E1348F    132\n",
       "  22 │ AAE87F736603DF92F7B0051E9AF735F9     26\n",
       "  23 │ 3D7172B734538307D273FC16621921B0     26"
      ]
     },
     "execution_count": 2,
     "metadata": {},
     "output_type": "execute_result"
    }
   ],
   "source": [
    "df = CSV.File(\"data/luck_draw.csv\", normalizenames=true) |> DataFrame\n",
    "df=dropmissing(df)"
   ]
  },
  {
   "cell_type": "code",
   "execution_count": 3,
   "metadata": {},
   "outputs": [
    {
     "data": {
      "text/plain": [
       "all_winners (generic function with 1 method)"
      ]
     },
     "execution_count": 3,
     "metadata": {},
     "output_type": "execute_result"
    }
   ],
   "source": [
    "\"\"\"\n",
    "Returns the list of winners\n",
    "\"\"\"\n",
    "\n",
    "function all_winners(df)\n",
    "    weights=df.hours./sum(df.hours)\n",
    "    winners=sample(df.participant_id, Weights(weights))\n",
    "    return winners\n",
    "end"
   ]
  },
  {
   "cell_type": "code",
   "execution_count": 4,
   "metadata": {},
   "outputs": [
    {
     "data": {
      "text/plain": [
       "convert (generic function with 1 method)"
      ]
     },
     "execution_count": 4,
     "metadata": {},
     "output_type": "execute_result"
    }
   ],
   "source": [
    "\"\"\"\n",
    "Converts the list of winners of a gift into a string\n",
    "\"\"\"\n",
    "\n",
    "function convert(split)\n",
    "    split=string.(split)\n",
    "    splitstr=split[1]\n",
    "    for i in split[2:end]\n",
    "        splitstr=splitstr*\", \"*i\n",
    "    end\n",
    "    return splitstr\n",
    "end"
   ]
  },
  {
   "cell_type": "code",
   "execution_count": 5,
   "metadata": {},
   "outputs": [
    {
     "name": "stdout",
     "output_type": "stream",
     "text": [
      "Congratulations to the winner of iPad Pro: 97DBAD626C9BE507A220B90EC1EE1047\n",
      "Congratulations to the winner of Android Mobile Phone: 90E43D1256B6C2568D96592BF8F8C2E3, F9558FF2F5B419305A6FB62ABEF75306, 3D7172B734538307D273FC16621921B0\n",
      "Congratulations to the winner of FitBat Tracker: 92388F1025C4AF44B841894D65B65E5C, E1990743A6063E89E0140A88913DA2ED, 7AA4F54BC45E4BDE9D37B5613E02CD0C, E02EB409E311CD767440ACA3CD1E8835, 89AF77D97AB1DC875A298809A0BB86C0\n"
     ]
    }
   ],
   "source": [
    "Random.seed!(sum(df.hours)*size(df)[1])\n",
    "winner_ipad=all_winners(df)\n",
    "winner_android=[]\n",
    "winner_fitbit=[]\n",
    "i=2\n",
    "col=df[!,:participant_id]\n",
    "println(\"Congratulations to the winner of iPad Pro: $winner_ipad\")\n",
    "loc=findfirst(x->x==winner_ipad,col)\n",
    "delete!(df,loc)\n",
    "while i<=9\n",
    "    col=df[!,:participant_id]\n",
    "    winner=all_winners(df)\n",
    "    if i<=4\n",
    "        push!(winner_android, winner)   \n",
    "    elseif i<=9\n",
    "        push!(winner_fitbit, winner)\n",
    "    end\n",
    "    loc=findfirst(x->x==winner,col)\n",
    "    delete!(df,loc)\n",
    "    i=i+1\n",
    "end\n",
    "println(\"Congratulations to the winner of Android Mobile Phone: \"*convert(winner_android))\n",
    "println(\"Congratulations to the winner of FitBat Tracker: \"*convert(winner_fitbit))"
   ]
  },
  {
   "cell_type": "code",
   "execution_count": null,
   "metadata": {},
   "outputs": [],
   "source": []
  },
  {
   "cell_type": "code",
   "execution_count": null,
   "metadata": {},
   "outputs": [],
   "source": []
  },
  {
   "cell_type": "code",
   "execution_count": null,
   "metadata": {},
   "outputs": [],
   "source": []
  }
 ],
 "metadata": {
  "kernelspec": {
   "display_name": "Julia 1.5.3",
   "language": "julia",
   "name": "julia-1.5"
  },
  "language_info": {
   "file_extension": ".jl",
   "mimetype": "application/julia",
   "name": "julia",
   "version": "1.5.3"
  }
 },
 "nbformat": 4,
 "nbformat_minor": 4
}
